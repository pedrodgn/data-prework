{
 "cells": [
  {
   "cell_type": "markdown",
   "metadata": {},
   "source": [
    "<img src=\"https://bit.ly/2VnXWr2\" width=\"100\" align=\"left\">"
   ]
  },
  {
   "cell_type": "markdown",
   "metadata": {},
   "source": [
    "# Rock, Paper & Scissors\n",
    "\n",
    "Let's play the famous game against our computer. You can check the rules [here](https://en.wikipedia.org/wiki/Rock%E2%80%93paper%E2%80%93scissors). \n",
    "\n",
    "## Task\n",
    "Create a program that imitates the playability of the well known game of rock, paper, scissors. Follow the guidelines provided.\n",
    "\n",
    "## Tools\n",
    "1. Loop: **for/while**\n",
    "2. Functions: **input(), print()...**\n",
    "3. Conditional statements: **if, elif, else**\n",
    "4. Definition of functions. Modular programming\n",
    "5. Import modules\n",
    "\n",
    "**To solve this challenge, the use of functions is recommended.**\n",
    "\n",
    "#### 1. Import the choice function of the random module."
   ]
  },
  {
   "cell_type": "code",
   "execution_count": 1,
   "metadata": {},
   "outputs": [],
   "source": [
    "import random"
   ]
  },
  {
   "cell_type": "markdown",
   "metadata": {},
   "source": [
    "#### 2. Create a list that includes the 3 possible gesture options of the game: 'rock', 'paper' or 'scissors'. Store the list in a variable called `gestures`."
   ]
  },
  {
   "cell_type": "code",
   "execution_count": 2,
   "metadata": {},
   "outputs": [],
   "source": [
    "gestures = [\"rock\",\"paper\",\"scissors\"]"
   ]
  },
  {
   "cell_type": "markdown",
   "metadata": {},
   "source": [
    "#### 3. Create a variable called `n_rounds` to store the maximum number of rounds to play in a game. \n",
    "Remember that the number of rounds must be odd: 1, 3, 5, ..."
   ]
  },
  {
   "cell_type": "code",
   "execution_count": 3,
   "metadata": {},
   "outputs": [],
   "source": [
    "n_rounds = 11"
   ]
  },
  {
   "cell_type": "markdown",
   "metadata": {},
   "source": [
    "#### 4. Create a variable called `rounds_to_win` to store the number of rounds that a player must win to win the game.\n",
    "**Hint**: the value stored in `rounds_to_win` depends on the value of `n_rounds`. "
   ]
  },
  {
   "cell_type": "code",
   "execution_count": 4,
   "metadata": {},
   "outputs": [],
   "source": [
    "rounds_to_win = int(n_rounds/2 + 0.5)"
   ]
  },
  {
   "cell_type": "markdown",
   "metadata": {},
   "source": [
    "#### 5. Create two variables to store the number of rounds that the computer and the player have won. Call these variables `cpu_score` and `player_score`."
   ]
  },
  {
   "cell_type": "code",
   "execution_count": 5,
   "metadata": {},
   "outputs": [],
   "source": [
    "cpu_score = 0\n",
    "player_score = 0"
   ]
  },
  {
   "cell_type": "markdown",
   "metadata": {},
   "source": [
    "#### 6. Define a function that randomly returns one of the 3 gesture options.\n",
    "You will use this function to simulate the gesture choice of the computer. "
   ]
  },
  {
   "cell_type": "code",
   "execution_count": 6,
   "metadata": {},
   "outputs": [
    {
     "data": {
      "text/plain": [
       "'scissors'"
      ]
     },
     "execution_count": 6,
     "metadata": {},
     "output_type": "execute_result"
    }
   ],
   "source": [
    "random.choice(gestures)"
   ]
  },
  {
   "cell_type": "markdown",
   "metadata": {},
   "source": [
    "#### 7. Define a function that asks the player which is the gesture he or she wants to show: 'rock', 'paper' or 'scissors'.\n",
    "The player should only be allowed to choose one of the 3 gesture options. If the player's choice is not rock, paper or scissors, keep asking until it is."
   ]
  },
  {
   "cell_type": "code",
   "execution_count": 7,
   "metadata": {},
   "outputs": [
    {
     "name": "stdout",
     "output_type": "stream",
     "text": [
      "Choose between rock, paper ou scissors: paper\n"
     ]
    }
   ],
   "source": [
    "def user_choice():\n",
    "    user_choice.user=0\n",
    "    while user_choice.user not in gestures:\n",
    "        user_choice.user = input(\"Choose between rock, paper ou scissors: \")\n",
    "user_choice()"
   ]
  },
  {
   "cell_type": "markdown",
   "metadata": {},
   "source": [
    "#### 8. Define a function that checks who won a round. \n",
    "The function should return 0 if there is a tie, 1 if the computer wins and 2 if the player wins."
   ]
  },
  {
   "cell_type": "code",
   "execution_count": 8,
   "metadata": {},
   "outputs": [
    {
     "name": "stdout",
     "output_type": "stream",
     "text": [
      "Choose between rock, paper ou scissors: paper\n",
      "Computer chose rock\n"
     ]
    },
    {
     "data": {
      "text/plain": [
       "2"
      ]
     },
     "execution_count": 8,
     "metadata": {},
     "output_type": "execute_result"
    }
   ],
   "source": [
    "def round():\n",
    "    computer = random.choice(gestures)\n",
    "    user_choice()\n",
    "    print(\"Computer chose %s\" % (computer))\n",
    "    if gestures.index(user_choice.user)-gestures.index(computer)==1:\n",
    "        return 2\n",
    "    elif gestures.index(computer)-gestures.index(user_choice.user)==1:\n",
    "        return 1\n",
    "    elif gestures.index(computer)-gestures.index(user_choice.user)==2:\n",
    "        return 2\n",
    "    elif gestures.index(user_choice.user)-gestures.index(computer)==2:\n",
    "        return 1\n",
    "    else:\n",
    "        return 0\n",
    "round()"
   ]
  },
  {
   "cell_type": "markdown",
   "metadata": {},
   "source": [
    "#### 9. Define a function that prints the choice of the computer, the choice of the player and a message that announces who won the current round. \n",
    "You should also use this function to update the variables that count the number of rounds that the computer and the player have won. The score of the winner increases by one point. If there is a tie, the score does not increase."
   ]
  },
  {
   "cell_type": "code",
   "execution_count": 9,
   "metadata": {},
   "outputs": [
    {
     "name": "stdout",
     "output_type": "stream",
     "text": [
      "Choose between rock, paper ou scissors: paper\n",
      "Computer chose scissors\n",
      "User chose paper\n",
      "Computer won!\n",
      "User: 0 points x Computer: 1 points\n"
     ]
    }
   ],
   "source": [
    "def round():\n",
    "    computer = random.choice(gestures)\n",
    "    user_choice()\n",
    "    player_score = 0\n",
    "    cpu_score= 0\n",
    "    print(\"Computer chose %s\" % (computer))\n",
    "    print(\"User chose %s\" % (user_choice.user))\n",
    "    if gestures.index(user_choice.user)-gestures.index(computer)==1:\n",
    "        print(\"User won!\")\n",
    "        player_score+=1\n",
    "    elif gestures.index(computer)-gestures.index(user_choice.user)==1:\n",
    "        print(\"Computer won!\")\n",
    "        cpu_score+=1\n",
    "    elif gestures.index(computer)-gestures.index(user_choice.user)==2:\n",
    "        print(\"User won!\")\n",
    "        player_score+=1\n",
    "    elif gestures.index(user_choice.user)-gestures.index(computer)==2:\n",
    "        print(\"Computer won!\")\n",
    "        cpu_score+=1\n",
    "    else:\n",
    "        print(\"It's a tie!\")\n",
    "    print(\"User: %d points x Computer: %d points\" % (player_score,cpu_score))\n",
    "round()"
   ]
  },
  {
   "cell_type": "markdown",
   "metadata": {},
   "source": [
    "#### 10. Now it's time to code the execution of the game using the functions and variables you defined above. \n",
    "\n",
    "First, create a loop structure that repeats while no player reaches the minimum score necessary to win and the number of rounds is less than the maximum number of rounds to play in a game.  \n",
    "\n",
    "Inside the loop, use the functions and variables above to create the execution of a round: ask for the player's choice, generate the random choice of the computer, show the round results, update the scores, etc. "
   ]
  },
  {
   "cell_type": "code",
   "execution_count": 10,
   "metadata": {},
   "outputs": [
    {
     "name": "stdout",
     "output_type": "stream",
     "text": [
      "Choose an odd number of rounds: paper\n"
     ]
    },
    {
     "ename": "ValueError",
     "evalue": "invalid literal for int() with base 10: 'paper'",
     "output_type": "error",
     "traceback": [
      "\u001b[1;31m---------------------------------------------------------------------------\u001b[0m",
      "\u001b[1;31mValueError\u001b[0m                                Traceback (most recent call last)",
      "\u001b[1;32m<ipython-input-10-8246ecccc325>\u001b[0m in \u001b[0;36m<module>\u001b[1;34m\u001b[0m\n\u001b[0;32m     28\u001b[0m     \u001b[1;32melse\u001b[0m\u001b[1;33m:\u001b[0m\u001b[1;33m\u001b[0m\u001b[1;33m\u001b[0m\u001b[0m\n\u001b[0;32m     29\u001b[0m         \u001b[0mprint\u001b[0m\u001b[1;33m(\u001b[0m\u001b[1;34m\"You lost!! =(\"\u001b[0m\u001b[1;33m)\u001b[0m\u001b[1;33m\u001b[0m\u001b[1;33m\u001b[0m\u001b[0m\n\u001b[1;32m---> 30\u001b[1;33m \u001b[0mgame\u001b[0m\u001b[1;33m(\u001b[0m\u001b[1;33m)\u001b[0m\u001b[1;33m\u001b[0m\u001b[1;33m\u001b[0m\u001b[0m\n\u001b[0m",
      "\u001b[1;32m<ipython-input-10-8246ecccc325>\u001b[0m in \u001b[0;36mgame\u001b[1;34m()\u001b[0m\n\u001b[0;32m      1\u001b[0m \u001b[1;32mdef\u001b[0m \u001b[0mgame\u001b[0m\u001b[1;33m(\u001b[0m\u001b[1;33m)\u001b[0m\u001b[1;33m:\u001b[0m\u001b[1;33m\u001b[0m\u001b[1;33m\u001b[0m\u001b[0m\n\u001b[1;32m----> 2\u001b[1;33m     \u001b[0mn_rounds\u001b[0m \u001b[1;33m=\u001b[0m \u001b[0mint\u001b[0m\u001b[1;33m(\u001b[0m\u001b[0minput\u001b[0m\u001b[1;33m(\u001b[0m\u001b[1;34m\"Choose an odd number of rounds: \"\u001b[0m\u001b[1;33m)\u001b[0m\u001b[1;33m)\u001b[0m\u001b[1;33m\u001b[0m\u001b[1;33m\u001b[0m\u001b[0m\n\u001b[0m\u001b[0;32m      3\u001b[0m     \u001b[0mrounds_to_win\u001b[0m \u001b[1;33m=\u001b[0m \u001b[0mint\u001b[0m\u001b[1;33m(\u001b[0m\u001b[0mn_rounds\u001b[0m\u001b[1;33m/\u001b[0m\u001b[1;36m2\u001b[0m \u001b[1;33m+\u001b[0m \u001b[1;36m0.5\u001b[0m\u001b[1;33m)\u001b[0m\u001b[1;33m\u001b[0m\u001b[1;33m\u001b[0m\u001b[0m\n\u001b[0;32m      4\u001b[0m     \u001b[0mplayer_score\u001b[0m\u001b[1;33m=\u001b[0m\u001b[1;36m0\u001b[0m\u001b[1;33m\u001b[0m\u001b[1;33m\u001b[0m\u001b[0m\n\u001b[0;32m      5\u001b[0m     \u001b[0mcpu_score\u001b[0m\u001b[1;33m=\u001b[0m\u001b[1;36m0\u001b[0m\u001b[1;33m\u001b[0m\u001b[1;33m\u001b[0m\u001b[0m\n",
      "\u001b[1;31mValueError\u001b[0m: invalid literal for int() with base 10: 'paper'"
     ]
    }
   ],
   "source": [
    "def game():\n",
    "    n_rounds = int(input(\"Choose an odd number of rounds: \"))\n",
    "    rounds_to_win = int(n_rounds/2 + 0.5)\n",
    "    player_score=0\n",
    "    cpu_score=0\n",
    "    while rounds_to_win != player_score and rounds_to_win != cpu_score:\n",
    "        computer = random.choice(gestures)\n",
    "        user_choice()\n",
    "        print(\"Computer chose %s\" % (computer))\n",
    "        print(\"User chose %s\" % (user_choice.user))\n",
    "        if gestures.index(user_choice.user)-gestures.index(computer)==1:\n",
    "            print(\"User won!\")\n",
    "            player_score+=1\n",
    "        elif gestures.index(computer)-gestures.index(user_choice.user)==1:\n",
    "            print(\"Computer won!\")\n",
    "            cpu_score+=1\n",
    "        elif gestures.index(computer)-gestures.index(user_choice.user)==2:\n",
    "            print(\"User won!\")\n",
    "            player_score+=1\n",
    "        elif gestures.index(user_choice.user)-gestures.index(computer)==2:\n",
    "            print(\"Computer won!\")\n",
    "            cpu_score+=1\n",
    "        else:\n",
    "            print(\"It's a tie!\")\n",
    "        print(\"User: %d points x Computer: %d points\" % (player_score,cpu_score))\n",
    "    if player_score==rounds_to_win:\n",
    "        print(\"Congratulations! You won\")\n",
    "    else:\n",
    "        print(\"You lost!! =(\")\n",
    "game()"
   ]
  },
  {
   "cell_type": "markdown",
   "metadata": {},
   "source": [
    "#### 11. Print the winner of the game based on who won more rounds.\n",
    "Remember that the game might be tied. "
   ]
  },
  {
   "cell_type": "code",
   "execution_count": null,
   "metadata": {},
   "outputs": [],
   "source": [
    "if player_score>cpu_score:\n",
    "    print(\"User won\")\n",
    "elif player_score<cpu_score:\n",
    "    print(\"Cpu won!\")\n",
    "else:\n",
    "    print(\"It's a tie!\")"
   ]
  },
  {
   "cell_type": "markdown",
   "metadata": {},
   "source": [
    "# Bonus: Rock, Paper, Scissors, Lizard & Spock\n",
    "![](images/rpsls.jpg)\n",
    "\n",
    "In this challenge, you need to improve the previous game by adding two new options. To know more about the rules of the improved version of rock, paper, scissors, check this [link](http://www.samkass.com/theories/RPSSL.html). \n",
    "\n",
    "In addition, you will also need to improve how the game interacts with the player: the number of rounds to play, which must be an odd number, will be requested to the user until a valid number is entered. Define a new function to make that request.\n",
    "\n",
    "**Hint**: Try to reuse the code that you already coded in the previous challenge. If your code is efficient, this bonus will only consist of simple modifications to the original game."
   ]
  },
  {
   "cell_type": "raw",
   "metadata": {},
   "source": []
  },
  {
   "cell_type": "code",
   "execution_count": 12,
   "metadata": {},
   "outputs": [
    {
     "name": "stdout",
     "output_type": "stream",
     "text": [
      "Choose an odd number of rounds: 2\n",
      "Error! You must choose an odd number\n",
      "Choose an odd number of rounds: 4\n",
      "Error! You must choose an odd number\n",
      "Choose an odd number of rounds: 3\n",
      "Choose between rock, paper, scissors, lizard or spock: rock\n",
      "Computer chose rock\n",
      "User chose rock\n",
      "It's a tie!\n",
      "User: 0 points x Computer: 0 points\n",
      "Choose between rock, paper, scissors, lizard or spock: lizard\n",
      "Computer chose spock\n",
      "User chose lizard\n",
      "User won!\n",
      "User: 1 points x Computer: 0 points\n",
      "Choose between rock, paper, scissors, lizard or spock: lizard\n",
      "Computer chose spock\n",
      "User chose lizard\n",
      "User won!\n",
      "User: 2 points x Computer: 0 points\n",
      "Congratulations! You won\n"
     ]
    }
   ],
   "source": [
    "def odd():\n",
    "        odd.n_rounds = int(input(\"Choose an odd number of rounds: \"))\n",
    "        while odd.n_rounds%2!=1:\n",
    "            print(\"Error! You must choose an odd number\")\n",
    "            odd.n_rounds = int(input(\"Choose an odd number of rounds: \"))\n",
    "\n",
    "gestures = [\"rock\",\"paper\",\"scissors\",\"spock\",\"lizard\"]\n",
    "\n",
    "def user_choice():\n",
    "    user_choice.user=0\n",
    "    while user_choice.user not in gestures:\n",
    "        user_choice.user = input(\"Choose between rock, paper, scissors, lizard or spock: \")\n",
    "\n",
    "def game():\n",
    "    odd()\n",
    "    rounds_to_win = int(odd.n_rounds/2 + 0.5)\n",
    "    player_score=0\n",
    "    cpu_score=0\n",
    "    while rounds_to_win != player_score and rounds_to_win != cpu_score:\n",
    "        computer = random.choice(gestures)\n",
    "        user_choice()\n",
    "        print(\"Computer chose %s\" % (computer))\n",
    "        print(\"User chose %s\" % (user_choice.user))\n",
    "        if gestures.index(user_choice.user)-gestures.index(computer)==1:\n",
    "            print(\"User won!\")\n",
    "            player_score+=1\n",
    "        elif gestures.index(computer)-gestures.index(user_choice.user)==1:\n",
    "            print(\"Computer won!\")\n",
    "            cpu_score+=1\n",
    "        elif gestures.index(computer)-gestures.index(user_choice.user)==2:\n",
    "            print(\"User won!\")\n",
    "            player_score+=1\n",
    "        elif gestures.index(user_choice.user)-gestures.index(computer)==2:\n",
    "            print(\"Computer won!\")\n",
    "            cpu_score+=1\n",
    "        elif gestures.index(computer)-gestures.index(user_choice.user)==3:\n",
    "            print(\"Computer won!\")\n",
    "            cpu_score+=1\n",
    "        elif gestures.index(user_choice.user)-gestures.index(computer)==3:\n",
    "            print(\"User won!\")\n",
    "            player_score+=1\n",
    "        elif gestures.index(computer)-gestures.index(user_choice.user)==4:\n",
    "            print(\"User won!\")\n",
    "            user_score+=1\n",
    "        elif gestures.index(user_choice.user)-gestures.index(computer)==4:\n",
    "            print(\"Computer won!\")\n",
    "            cpu_score+=1\n",
    "        else:\n",
    "            print(\"It's a tie!\")\n",
    "        print(\"User: %d points x Computer: %d points\" % (player_score,cpu_score))\n",
    "    if player_score==rounds_to_win:\n",
    "        print(\"Congratulations! You won\")\n",
    "    else:\n",
    "        print(\"You lost!! =(\")\n",
    "game()"
   ]
  },
  {
   "cell_type": "raw",
   "metadata": {},
   "source": []
  }
 ],
 "metadata": {
  "kernelspec": {
   "display_name": "Python 3",
   "language": "python",
   "name": "python3"
  },
  "language_info": {
   "codemirror_mode": {
    "name": "ipython",
    "version": 3
   },
   "file_extension": ".py",
   "mimetype": "text/x-python",
   "name": "python",
   "nbconvert_exporter": "python",
   "pygments_lexer": "ipython3",
   "version": "3.7.4"
  }
 },
 "nbformat": 4,
 "nbformat_minor": 2
}
